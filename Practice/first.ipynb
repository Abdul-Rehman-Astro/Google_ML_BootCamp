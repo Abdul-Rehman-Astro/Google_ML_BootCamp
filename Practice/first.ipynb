{
 "cells": [
  {
   "cell_type": "code",
   "execution_count": 1,
   "metadata": {},
   "outputs": [
    {
     "name": "stdout",
     "output_type": "stream",
     "text": [
      "[[-0.04921006  0.69359483  2.7822109 ]\n",
      " [ 0.1628923  -0.09443848  2.80175785]\n",
      " [ 0.35760921  2.13912346 -0.15741499]\n",
      " [-0.39371912  2.06466653 -1.46926835]]\n"
     ]
    }
   ],
   "source": [
    "import numpy as np\n",
    "A= np.random.randn(4,3)\n",
    "print(A)"
   ]
  },
  {
   "cell_type": "code",
   "execution_count": 3,
   "metadata": {},
   "outputs": [
    {
     "name": "stdout",
     "output_type": "stream",
     "text": [
      "[[3.42659567]\n",
      " [2.87021166]\n",
      " [2.33931768]\n",
      " [0.20167906]]\n"
     ]
    }
   ],
   "source": [
    "B = np.sum(A, axis = 1, keepdims = True) \n",
    "print(B)"
   ]
  },
  {
   "cell_type": "code",
   "execution_count": null,
   "metadata": {},
   "outputs": [],
   "source": []
  }
 ],
 "metadata": {
  "kernelspec": {
   "display_name": "Python 3.10.4 64-bit",
   "language": "python",
   "name": "python3"
  },
  "language_info": {
   "codemirror_mode": {
    "name": "ipython",
    "version": 3
   },
   "file_extension": ".py",
   "mimetype": "text/x-python",
   "name": "python",
   "nbconvert_exporter": "python",
   "pygments_lexer": "ipython3",
   "version": "3.10.4"
  },
  "orig_nbformat": 4,
  "vscode": {
   "interpreter": {
    "hash": "3424c8d5d5d4023d4e99034e313d6393514efb28456fdd7c218e89ee93bab514"
   }
  }
 },
 "nbformat": 4,
 "nbformat_minor": 2
}
